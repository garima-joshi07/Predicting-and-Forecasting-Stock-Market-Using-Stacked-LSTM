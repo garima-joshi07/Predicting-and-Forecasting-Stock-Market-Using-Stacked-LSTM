{
  "nbformat": 4,
  "nbformat_minor": 0,
  "metadata": {
    "kernelspec": {
      "display_name": "Python 3",
      "language": "python",
      "name": "python3"
    },
    "language_info": {
      "codemirror_mode": {
        "name": "ipython",
        "version": 3
      },
      "file_extension": ".py",
      "mimetype": "text/x-python",
      "name": "python",
      "nbconvert_exporter": "python",
      "pygments_lexer": "ipython3",
      "version": "3.6.5"
    },
    "colab": {
      "name": "Predicting and Forecasting Stock Market Using Stacked LSTM.ipynb",
      "provenance": [],
      "toc_visible": true
    }
  },
  "cells": [
    {
      "cell_type": "markdown",
      "metadata": {
        "id": "5H38TiBlORN7"
      },
      "source": [
        "# Stock Market Prediction and Forecasting Using Stacked LSTM\n",
        "Using Keras and Tensorflow\n",
        "\n",
        "##### Dataset\n",
        "Yahoo Finance - Stock of Reliance Industries Limited\n",
        "NSE: RELIANCE: https://finance.yahoo.com/quote/RELIANCE.NS/history?period1=1433635200&period2=1591488000&interval=1d&filter=history&frequency=1d\n"
      ]
    },
    {
      "cell_type": "code",
      "metadata": {
        "id": "DfuBxNzZOROV"
      },
      "source": [
        "#Import necessary Libraries\n",
        "import pandas as pd\n",
        "import numpy as np\n",
        "import math\n",
        "import matplotlib.pyplot as plt\n",
        "from sklearn.preprocessing import MinMaxScaler\n",
        "from sklearn.metrics import mean_squared_error\n",
        "import tensorflow as tf\n",
        "from tensorflow.python.keras.models import Sequential\n",
        "from tensorflow.python.keras.layers import Dense\n",
        "from tensorflow.python.keras.layers import LSTM\n",
        "%matplotlib inline"
      ],
      "execution_count": 1,
      "outputs": []
    },
    {
      "cell_type": "code",
      "metadata": {
        "colab": {
          "base_uri": "https://localhost:8080/",
          "height": 200
        },
        "id": "VjhArvF1OROZ",
        "outputId": "764ad2cb-26c8-418a-8315-53c0a64811e5"
      },
      "source": [
        "#Import the data and remove rows containing NAN values\n",
        "df = pd.read_csv('Reliance_Stock.csv')\n",
        "df = df.dropna()\n",
        "df.head()"
      ],
      "execution_count": 2,
      "outputs": [
        {
          "output_type": "execute_result",
          "data": {
            "text/html": [
              "<div>\n",
              "<style scoped>\n",
              "    .dataframe tbody tr th:only-of-type {\n",
              "        vertical-align: middle;\n",
              "    }\n",
              "\n",
              "    .dataframe tbody tr th {\n",
              "        vertical-align: top;\n",
              "    }\n",
              "\n",
              "    .dataframe thead th {\n",
              "        text-align: right;\n",
              "    }\n",
              "</style>\n",
              "<table border=\"1\" class=\"dataframe\">\n",
              "  <thead>\n",
              "    <tr style=\"text-align: right;\">\n",
              "      <th></th>\n",
              "      <th>Date</th>\n",
              "      <th>Open</th>\n",
              "      <th>High</th>\n",
              "      <th>Low</th>\n",
              "      <th>Close</th>\n",
              "      <th>Adj Close</th>\n",
              "      <th>Volume</th>\n",
              "    </tr>\n",
              "  </thead>\n",
              "  <tbody>\n",
              "    <tr>\n",
              "      <th>0</th>\n",
              "      <td>2015-06-08</td>\n",
              "      <td>453.399994</td>\n",
              "      <td>455.000000</td>\n",
              "      <td>441.549988</td>\n",
              "      <td>442.725006</td>\n",
              "      <td>425.550629</td>\n",
              "      <td>4958862.0</td>\n",
              "    </tr>\n",
              "    <tr>\n",
              "      <th>1</th>\n",
              "      <td>2015-06-09</td>\n",
              "      <td>441.774994</td>\n",
              "      <td>445.325012</td>\n",
              "      <td>438.674988</td>\n",
              "      <td>441.850006</td>\n",
              "      <td>424.709564</td>\n",
              "      <td>4184606.0</td>\n",
              "    </tr>\n",
              "    <tr>\n",
              "      <th>2</th>\n",
              "      <td>2015-06-10</td>\n",
              "      <td>443.000000</td>\n",
              "      <td>454.950012</td>\n",
              "      <td>442.500000</td>\n",
              "      <td>452.899994</td>\n",
              "      <td>435.330933</td>\n",
              "      <td>6176034.0</td>\n",
              "    </tr>\n",
              "    <tr>\n",
              "      <th>3</th>\n",
              "      <td>2015-06-11</td>\n",
              "      <td>453.000000</td>\n",
              "      <td>454.750000</td>\n",
              "      <td>436.825012</td>\n",
              "      <td>438.575012</td>\n",
              "      <td>421.561676</td>\n",
              "      <td>6709574.0</td>\n",
              "    </tr>\n",
              "    <tr>\n",
              "      <th>4</th>\n",
              "      <td>2015-06-12</td>\n",
              "      <td>439.500000</td>\n",
              "      <td>446.350006</td>\n",
              "      <td>439.125000</td>\n",
              "      <td>444.924988</td>\n",
              "      <td>427.665283</td>\n",
              "      <td>9849112.0</td>\n",
              "    </tr>\n",
              "  </tbody>\n",
              "</table>\n",
              "</div>"
            ],
            "text/plain": [
              "         Date        Open        High  ...       Close   Adj Close     Volume\n",
              "0  2015-06-08  453.399994  455.000000  ...  442.725006  425.550629  4958862.0\n",
              "1  2015-06-09  441.774994  445.325012  ...  441.850006  424.709564  4184606.0\n",
              "2  2015-06-10  443.000000  454.950012  ...  452.899994  435.330933  6176034.0\n",
              "3  2015-06-11  453.000000  454.750000  ...  438.575012  421.561676  6709574.0\n",
              "4  2015-06-12  439.500000  446.350006  ...  444.924988  427.665283  9849112.0\n",
              "\n",
              "[5 rows x 7 columns]"
            ]
          },
          "metadata": {
            "tags": []
          },
          "execution_count": 2
        }
      ]
    },
    {
      "cell_type": "code",
      "metadata": {
        "colab": {
          "base_uri": "https://localhost:8080/",
          "height": 200
        },
        "id": "zHtcJznQOROd",
        "outputId": "edc04cd8-68bc-4192-a083-d3278645863d"
      },
      "source": [
        "df.tail()"
      ],
      "execution_count": 3,
      "outputs": [
        {
          "output_type": "execute_result",
          "data": {
            "text/html": [
              "<div>\n",
              "<style scoped>\n",
              "    .dataframe tbody tr th:only-of-type {\n",
              "        vertical-align: middle;\n",
              "    }\n",
              "\n",
              "    .dataframe tbody tr th {\n",
              "        vertical-align: top;\n",
              "    }\n",
              "\n",
              "    .dataframe thead th {\n",
              "        text-align: right;\n",
              "    }\n",
              "</style>\n",
              "<table border=\"1\" class=\"dataframe\">\n",
              "  <thead>\n",
              "    <tr style=\"text-align: right;\">\n",
              "      <th></th>\n",
              "      <th>Date</th>\n",
              "      <th>Open</th>\n",
              "      <th>High</th>\n",
              "      <th>Low</th>\n",
              "      <th>Close</th>\n",
              "      <th>Adj Close</th>\n",
              "      <th>Volume</th>\n",
              "    </tr>\n",
              "  </thead>\n",
              "  <tbody>\n",
              "    <tr>\n",
              "      <th>1224</th>\n",
              "      <td>2020-06-01</td>\n",
              "      <td>1480.0</td>\n",
              "      <td>1538.349976</td>\n",
              "      <td>1475.949951</td>\n",
              "      <td>1520.349976</td>\n",
              "      <td>1520.349976</td>\n",
              "      <td>18434012.0</td>\n",
              "    </tr>\n",
              "    <tr>\n",
              "      <th>1225</th>\n",
              "      <td>2020-06-02</td>\n",
              "      <td>1526.0</td>\n",
              "      <td>1540.000000</td>\n",
              "      <td>1520.800049</td>\n",
              "      <td>1535.699951</td>\n",
              "      <td>1535.699951</td>\n",
              "      <td>10224049.0</td>\n",
              "    </tr>\n",
              "    <tr>\n",
              "      <th>1226</th>\n",
              "      <td>2020-06-03</td>\n",
              "      <td>1545.0</td>\n",
              "      <td>1560.000000</td>\n",
              "      <td>1533.349976</td>\n",
              "      <td>1541.650024</td>\n",
              "      <td>1541.650024</td>\n",
              "      <td>11713461.0</td>\n",
              "    </tr>\n",
              "    <tr>\n",
              "      <th>1227</th>\n",
              "      <td>2020-06-04</td>\n",
              "      <td>1544.0</td>\n",
              "      <td>1589.500000</td>\n",
              "      <td>1541.000000</td>\n",
              "      <td>1579.800049</td>\n",
              "      <td>1579.800049</td>\n",
              "      <td>15784379.0</td>\n",
              "    </tr>\n",
              "    <tr>\n",
              "      <th>1228</th>\n",
              "      <td>2020-06-05</td>\n",
              "      <td>1595.0</td>\n",
              "      <td>1618.000000</td>\n",
              "      <td>1573.699951</td>\n",
              "      <td>1581.699951</td>\n",
              "      <td>1581.699951</td>\n",
              "      <td>15246965.0</td>\n",
              "    </tr>\n",
              "  </tbody>\n",
              "</table>\n",
              "</div>"
            ],
            "text/plain": [
              "            Date    Open         High  ...        Close    Adj Close      Volume\n",
              "1224  2020-06-01  1480.0  1538.349976  ...  1520.349976  1520.349976  18434012.0\n",
              "1225  2020-06-02  1526.0  1540.000000  ...  1535.699951  1535.699951  10224049.0\n",
              "1226  2020-06-03  1545.0  1560.000000  ...  1541.650024  1541.650024  11713461.0\n",
              "1227  2020-06-04  1544.0  1589.500000  ...  1579.800049  1579.800049  15784379.0\n",
              "1228  2020-06-05  1595.0  1618.000000  ...  1581.699951  1581.699951  15246965.0\n",
              "\n",
              "[5 rows x 7 columns]"
            ]
          },
          "metadata": {
            "tags": []
          },
          "execution_count": 3
        }
      ]
    },
    {
      "cell_type": "code",
      "metadata": {
        "id": "Us7WudcSOROf"
      },
      "source": [
        "df_close = df['Close']"
      ],
      "execution_count": 4,
      "outputs": []
    },
    {
      "cell_type": "code",
      "metadata": {
        "colab": {
          "base_uri": "https://localhost:8080/"
        },
        "id": "HNbJSkz3OROh",
        "outputId": "6ee5cf04-0eb4-4d78-a02a-89010cfc5251"
      },
      "source": [
        "df_close.shape"
      ],
      "execution_count": 5,
      "outputs": [
        {
          "output_type": "execute_result",
          "data": {
            "text/plain": [
              "(1228,)"
            ]
          },
          "metadata": {
            "tags": []
          },
          "execution_count": 5
        }
      ]
    },
    {
      "cell_type": "code",
      "metadata": {
        "colab": {
          "base_uri": "https://localhost:8080/",
          "height": 283
        },
        "id": "xJs__ZRcOROi",
        "outputId": "20f88947-5e40-4342-80b2-96b9b61ad121"
      },
      "source": [
        "plt.plot(df_close)"
      ],
      "execution_count": 6,
      "outputs": [
        {
          "output_type": "execute_result",
          "data": {
            "text/plain": [
              "[<matplotlib.lines.Line2D at 0x7f00ffa67c10>]"
            ]
          },
          "metadata": {
            "tags": []
          },
          "execution_count": 6
        },
        {
          "output_type": "display_data",
          "data": {
            "image/png": "[encoded data removed]",
            "text/plain": [
              "<Figure size 432x288 with 1 Axes>"
            ]
          },
          "metadata": {
            "tags": [],
            "needs_background": "light"
          }
        }
      ]
    },
    {
      "cell_type": "markdown",
      "metadata": {
        "id": "cPf6WIEYOROk"
      },
      "source": [
        "Since LSTM are sensitive to the scale of the data, so we apply MinMax Scaler to transform our values between 0 and 1"
      ]
    },
    {
      "cell_type": "code",
      "metadata": {
        "id": "nSDmeGuXOROl"
      },
      "source": [
        "scaler = MinMaxScaler(feature_range = (0,1))\n",
        "df_close = scaler.fit_transform(np.array(df_close).reshape(-1,1))"
      ],
      "execution_count": 7,
      "outputs": []
    },
    {
      "cell_type": "code",
      "metadata": {
        "colab": {
          "base_uri": "https://localhost:8080/"
        },
        "id": "2VyeN7yeOROm",
        "outputId": "af2fad4d-327e-4a76-fe2d-bfaa4483bcc5"
      },
      "source": [
        "df_close.shape"
      ],
      "execution_count": 8,
      "outputs": [
        {
          "output_type": "execute_result",
          "data": {
            "text/plain": [
              "(1228, 1)"
            ]
          },
          "metadata": {
            "tags": []
          },
          "execution_count": 8
        }
      ]
    },
    {
      "cell_type": "code",
      "metadata": {
        "colab": {
          "base_uri": "https://localhost:8080/"
        },
        "id": "VzDHV9bPOROo",
        "outputId": "343ce94e-9401-40af-e9f1-94f2d0084d1d"
      },
      "source": [
        "df_close"
      ],
      "execution_count": 9,
      "outputs": [
        {
          "output_type": "execute_result",
          "data": {
            "text/plain": [
              "array([[0.02338571],\n",
              "       [0.0226536 ],\n",
              "       [0.0318991 ],\n",
              "       ...,\n",
              "       [0.94285362],\n",
              "       [0.97477365],\n",
              "       [0.97636329]])"
            ]
          },
          "metadata": {
            "tags": []
          },
          "execution_count": 9
        }
      ]
    },
    {
      "cell_type": "code",
      "metadata": {
        "id": "OUSA5Cs9OROp"
      },
      "source": [
        "#Split the data into train and test split\n",
        "training_size = int(len(df_close) * 0.75)\n",
        "test_size = len(df_close) - training_size\n",
        "train_data, test_data = df_close[0:training_size,:], df_close[training_size:len(df_close),:1]"
      ],
      "execution_count": 10,
      "outputs": []
    },
    {
      "cell_type": "code",
      "metadata": {
        "id": "SE4b7_VvOROr"
      },
      "source": [
        "def create_dataset(dataset, time_step = 1):\n",
        "    dataX, dataY = [], []\n",
        "    for i in range(len(dataset) - time_step - 1):\n",
        "        a = dataset[i:(i+time_step), 0]\n",
        "        dataX.append(a)\n",
        "        dataY.append(dataset[i+time_step, 0])\n",
        "    return np.array(dataX), np.array(dataY)"
      ],
      "execution_count": 11,
      "outputs": []
    },
    {
      "cell_type": "code",
      "metadata": {
        "id": "mDTu-NLWOROs"
      },
      "source": [
        "time_step = 100\n",
        "x_train, y_train = create_dataset(train_data, time_step)\n",
        "x_test, y_test = create_dataset(test_data, time_step)"
      ],
      "execution_count": 12,
      "outputs": []
    },
    {
      "cell_type": "code",
      "metadata": {
        "id": "RaOrOsrUOROt"
      },
      "source": [
        "#Reshape the input to be [samples, time steps, features] which is the requirement of LSTM\n",
        "x_train = x_train.reshape(x_train.shape[0], x_train.shape[1], 1)\n",
        "x_test = x_test.reshape(x_test.shape[0], x_test.shape[1], 1)"
      ],
      "execution_count": 13,
      "outputs": []
    },
    {
      "cell_type": "code",
      "metadata": {
        "id": "iYS60RBVOROu"
      },
      "source": [
        "#Create the LSTM Model\n",
        "model = Sequential()\n",
        "model.add(LSTM(50, return_sequences = True, input_shape = (100,1)))\n",
        "model.add(LSTM(50, return_sequences = True))\n",
        "model.add(LSTM(50))\n",
        "model.add(Dense(1))\n",
        "model.compile(loss = 'mean_squared_error', optimizer = 'adam')\n"
      ],
      "execution_count": 14,
      "outputs": []
    },
    {
      "cell_type": "code",
      "metadata": {
        "colab": {
          "base_uri": "https://localhost:8080/"
        },
        "id": "2t_vuHF-OROy",
        "outputId": "3c268a20-8742-4286-bf98-1943ccf604e0"
      },
      "source": [
        "model.summary()"
      ],
      "execution_count": 15,
      "outputs": [
        {
          "output_type": "stream",
          "text": [
            "Model: \"sequential\"\n",
            "_________________________________________________________________\n",
            "Layer (type)                 Output Shape              Param #   \n",
            "=================================================================\n",
            "lstm (LSTM)                  (None, 100, 50)           10400     \n",
            "_________________________________________________________________\n",
            "lstm_1 (LSTM)                (None, 100, 50)           20200     \n",
            "_________________________________________________________________\n",
            "lstm_2 (LSTM)                (None, 50)                20200     \n",
            "_________________________________________________________________\n",
            "dense (Dense)                (None, 1)                 51        \n",
            "=================================================================\n",
            "Total params: 50,851\n",
            "Trainable params: 50,851\n",
            "Non-trainable params: 0\n",
            "_________________________________________________________________\n"
          ],
          "name": "stdout"
        }
      ]
    },
    {
      "cell_type": "code",
      "metadata": {
        "colab": {
          "base_uri": "https://localhost:8080/"
        },
        "id": "VOJr8lLaOROy",
        "outputId": "10bebd05-dcfa-4c71-813b-1876523fdd62"
      },
      "source": [
        "model.fit(x_train, y_train, validation_data = (x_test, y_test), epochs = 100, batch_size = 64, verbose = 1)"
      ],
      "execution_count": 16,
      "outputs": [
        {
          "output_type": "stream",
          "text": [
            "Epoch 1/100\n",
            "13/13 [==============================] - 12s 402ms/step - loss: 0.0658 - val_loss: 0.0552\n",
            "Epoch 2/100\n",
            "13/13 [==============================] - 4s 317ms/step - loss: 0.0078 - val_loss: 0.0121\n",
            "Epoch 3/100\n",
            "13/13 [==============================] - 4s 319ms/step - loss: 0.0028 - val_loss: 0.0097\n",
            "Epoch 4/100\n",
            "13/13 [==============================] - 4s 320ms/step - loss: 0.0015 - val_loss: 0.0090\n",
            "Epoch 5/100\n",
            "13/13 [==============================] - 4s 321ms/step - loss: 0.0010 - val_loss: 0.0099\n",
            "Epoch 6/100\n",
            "13/13 [==============================] - 4s 317ms/step - loss: 8.8859e-04 - val_loss: 0.0085\n",
            "Epoch 7/100\n",
            "13/13 [==============================] - 4s 316ms/step - loss: 9.4581e-04 - val_loss: 0.0082\n",
            "Epoch 8/100\n",
            "13/13 [==============================] - 4s 317ms/step - loss: 9.4617e-04 - val_loss: 0.0085\n",
            "Epoch 9/100\n",
            "13/13 [==============================] - 4s 317ms/step - loss: 9.9676e-04 - val_loss: 0.0085\n",
            "Epoch 10/100\n",
            "13/13 [==============================] - 4s 320ms/step - loss: 9.3210e-04 - val_loss: 0.0081\n",
            "Epoch 11/100\n",
            "13/13 [==============================] - 4s 318ms/step - loss: 8.1736e-04 - val_loss: 0.0078\n",
            "Epoch 12/100\n",
            "13/13 [==============================] - 4s 317ms/step - loss: 9.3572e-04 - val_loss: 0.0076\n",
            "Epoch 13/100\n",
            "13/13 [==============================] - 4s 317ms/step - loss: 8.5278e-04 - val_loss: 0.0087\n",
            "Epoch 14/100\n",
            "13/13 [==============================] - 4s 317ms/step - loss: 8.7777e-04 - val_loss: 0.0090\n",
            "Epoch 15/100\n",
            "13/13 [==============================] - 4s 317ms/step - loss: 8.5737e-04 - val_loss: 0.0078\n",
            "Epoch 16/100\n",
            "13/13 [==============================] - 4s 316ms/step - loss: 8.1426e-04 - val_loss: 0.0070\n",
            "Epoch 17/100\n",
            "13/13 [==============================] - 4s 319ms/step - loss: 8.3172e-04 - val_loss: 0.0069\n",
            "Epoch 18/100\n",
            "13/13 [==============================] - 4s 316ms/step - loss: 7.8478e-04 - val_loss: 0.0071\n",
            "Epoch 19/100\n",
            "13/13 [==============================] - 4s 318ms/step - loss: 8.1629e-04 - val_loss: 0.0079\n",
            "Epoch 20/100\n",
            "13/13 [==============================] - 4s 316ms/step - loss: 8.0190e-04 - val_loss: 0.0077\n",
            "Epoch 21/100\n",
            "13/13 [==============================] - 4s 316ms/step - loss: 7.1264e-04 - val_loss: 0.0068\n",
            "Epoch 22/100\n",
            "13/13 [==============================] - 4s 314ms/step - loss: 8.0658e-04 - val_loss: 0.0062\n",
            "Epoch 23/100\n",
            "13/13 [==============================] - 4s 314ms/step - loss: 7.6053e-04 - val_loss: 0.0074\n",
            "Epoch 24/100\n",
            "13/13 [==============================] - 4s 316ms/step - loss: 8.6641e-04 - val_loss: 0.0095\n",
            "Epoch 25/100\n",
            "13/13 [==============================] - 4s 321ms/step - loss: 9.4428e-04 - val_loss: 0.0059\n",
            "Epoch 26/100\n",
            "13/13 [==============================] - 4s 316ms/step - loss: 8.0547e-04 - val_loss: 0.0059\n",
            "Epoch 27/100\n",
            "13/13 [==============================] - 4s 320ms/step - loss: 7.2367e-04 - val_loss: 0.0078\n",
            "Epoch 28/100\n",
            "13/13 [==============================] - 4s 321ms/step - loss: 7.1718e-04 - val_loss: 0.0063\n",
            "Epoch 29/100\n",
            "13/13 [==============================] - 4s 318ms/step - loss: 6.4908e-04 - val_loss: 0.0061\n",
            "Epoch 30/100\n",
            "13/13 [==============================] - 4s 319ms/step - loss: 6.8203e-04 - val_loss: 0.0051\n",
            "Epoch 31/100\n",
            "13/13 [==============================] - 4s 318ms/step - loss: 7.6450e-04 - val_loss: 0.0070\n",
            "Epoch 32/100\n",
            "13/13 [==============================] - 4s 321ms/step - loss: 6.8648e-04 - val_loss: 0.0062\n",
            "Epoch 33/100\n",
            "13/13 [==============================] - 4s 320ms/step - loss: 6.5340e-04 - val_loss: 0.0055\n",
            "Epoch 34/100\n",
            "13/13 [==============================] - 4s 320ms/step - loss: 6.7868e-04 - val_loss: 0.0061\n",
            "Epoch 35/100\n",
            "13/13 [==============================] - 4s 315ms/step - loss: 6.5032e-04 - val_loss: 0.0054\n",
            "Epoch 36/100\n",
            "13/13 [==============================] - 4s 324ms/step - loss: 5.9762e-04 - val_loss: 0.0044\n",
            "Epoch 37/100\n",
            "13/13 [==============================] - 4s 320ms/step - loss: 7.2694e-04 - val_loss: 0.0088\n",
            "Epoch 38/100\n",
            "13/13 [==============================] - 4s 320ms/step - loss: 7.3399e-04 - val_loss: 0.0043\n",
            "Epoch 39/100\n",
            "13/13 [==============================] - 4s 318ms/step - loss: 6.2230e-04 - val_loss: 0.0052\n",
            "Epoch 40/100\n",
            "13/13 [==============================] - 4s 316ms/step - loss: 5.5978e-04 - val_loss: 0.0056\n",
            "Epoch 41/100\n",
            "13/13 [==============================] - 4s 320ms/step - loss: 6.1327e-04 - val_loss: 0.0045\n",
            "Epoch 42/100\n",
            "13/13 [==============================] - 4s 317ms/step - loss: 6.4331e-04 - val_loss: 0.0060\n",
            "Epoch 43/100\n",
            "13/13 [==============================] - 4s 318ms/step - loss: 5.9717e-04 - val_loss: 0.0048\n",
            "Epoch 44/100\n",
            "13/13 [==============================] - 4s 318ms/step - loss: 5.5778e-04 - val_loss: 0.0054\n",
            "Epoch 45/100\n",
            "13/13 [==============================] - 4s 320ms/step - loss: 5.3404e-04 - val_loss: 0.0051\n",
            "Epoch 46/100\n",
            "13/13 [==============================] - 4s 322ms/step - loss: 5.7075e-04 - val_loss: 0.0042\n",
            "Epoch 47/100\n",
            "13/13 [==============================] - 4s 316ms/step - loss: 5.3901e-04 - val_loss: 0.0071\n",
            "Epoch 48/100\n",
            "13/13 [==============================] - 4s 321ms/step - loss: 6.1921e-04 - val_loss: 0.0048\n",
            "Epoch 49/100\n",
            "13/13 [==============================] - 4s 320ms/step - loss: 5.1424e-04 - val_loss: 0.0043\n",
            "Epoch 50/100\n",
            "13/13 [==============================] - 4s 322ms/step - loss: 5.9952e-04 - val_loss: 0.0056\n",
            "Epoch 51/100\n",
            "13/13 [==============================] - 4s 318ms/step - loss: 5.5237e-04 - val_loss: 0.0103\n",
            "Epoch 52/100\n",
            "13/13 [==============================] - 4s 320ms/step - loss: 7.1087e-04 - val_loss: 0.0040\n",
            "Epoch 53/100\n",
            "13/13 [==============================] - 4s 317ms/step - loss: 5.3569e-04 - val_loss: 0.0047\n",
            "Epoch 54/100\n",
            "13/13 [==============================] - 4s 318ms/step - loss: 5.6521e-04 - val_loss: 0.0060\n",
            "Epoch 55/100\n",
            "13/13 [==============================] - 4s 317ms/step - loss: 4.8688e-04 - val_loss: 0.0052\n",
            "Epoch 56/100\n",
            "13/13 [==============================] - 4s 320ms/step - loss: 4.9452e-04 - val_loss: 0.0056\n",
            "Epoch 57/100\n",
            "13/13 [==============================] - 4s 316ms/step - loss: 4.4476e-04 - val_loss: 0.0053\n",
            "Epoch 58/100\n",
            "13/13 [==============================] - 4s 317ms/step - loss: 5.4429e-04 - val_loss: 0.0054\n",
            "Epoch 59/100\n",
            "13/13 [==============================] - 4s 319ms/step - loss: 5.1503e-04 - val_loss: 0.0066\n",
            "Epoch 60/100\n",
            "13/13 [==============================] - 4s 317ms/step - loss: 5.5567e-04 - val_loss: 0.0055\n",
            "Epoch 61/100\n",
            "13/13 [==============================] - 4s 321ms/step - loss: 5.5603e-04 - val_loss: 0.0069\n",
            "Epoch 62/100\n",
            "13/13 [==============================] - 4s 320ms/step - loss: 6.1221e-04 - val_loss: 0.0041\n",
            "Epoch 63/100\n",
            "13/13 [==============================] - 4s 323ms/step - loss: 6.1679e-04 - val_loss: 0.0051\n",
            "Epoch 64/100\n",
            "13/13 [==============================] - 4s 322ms/step - loss: 7.5313e-04 - val_loss: 0.0077\n",
            "Epoch 65/100\n",
            "13/13 [==============================] - 4s 321ms/step - loss: 7.6544e-04 - val_loss: 0.0037\n",
            "Epoch 66/100\n",
            "13/13 [==============================] - 4s 320ms/step - loss: 5.7683e-04 - val_loss: 0.0086\n",
            "Epoch 67/100\n",
            "13/13 [==============================] - 4s 320ms/step - loss: 5.3008e-04 - val_loss: 0.0082\n",
            "Epoch 68/100\n",
            "13/13 [==============================] - 4s 320ms/step - loss: 4.8348e-04 - val_loss: 0.0053\n",
            "Epoch 69/100\n",
            "13/13 [==============================] - 4s 318ms/step - loss: 5.3256e-04 - val_loss: 0.0062\n",
            "Epoch 70/100\n",
            "13/13 [==============================] - 4s 319ms/step - loss: 5.0022e-04 - val_loss: 0.0063\n",
            "Epoch 71/100\n",
            "13/13 [==============================] - 4s 318ms/step - loss: 5.7755e-04 - val_loss: 0.0057\n",
            "Epoch 72/100\n",
            "13/13 [==============================] - 4s 319ms/step - loss: 5.2788e-04 - val_loss: 0.0082\n",
            "Epoch 73/100\n",
            "13/13 [==============================] - 4s 320ms/step - loss: 4.6995e-04 - val_loss: 0.0053\n",
            "Epoch 74/100\n",
            "13/13 [==============================] - 4s 322ms/step - loss: 4.6845e-04 - val_loss: 0.0081\n",
            "Epoch 75/100\n",
            "13/13 [==============================] - 4s 318ms/step - loss: 4.2946e-04 - val_loss: 0.0061\n",
            "Epoch 76/100\n",
            "13/13 [==============================] - 4s 321ms/step - loss: 4.8055e-04 - val_loss: 0.0069\n",
            "Epoch 77/100\n",
            "13/13 [==============================] - 4s 320ms/step - loss: 4.5557e-04 - val_loss: 0.0051\n",
            "Epoch 78/100\n",
            "13/13 [==============================] - 4s 318ms/step - loss: 5.1642e-04 - val_loss: 0.0060\n",
            "Epoch 79/100\n",
            "13/13 [==============================] - 4s 321ms/step - loss: 4.2717e-04 - val_loss: 0.0063\n",
            "Epoch 80/100\n",
            "13/13 [==============================] - 4s 319ms/step - loss: 4.7202e-04 - val_loss: 0.0069\n",
            "Epoch 81/100\n",
            "13/13 [==============================] - 4s 321ms/step - loss: 4.1962e-04 - val_loss: 0.0058\n",
            "Epoch 82/100\n",
            "13/13 [==============================] - 4s 320ms/step - loss: 4.9169e-04 - val_loss: 0.0058\n",
            "Epoch 83/100\n",
            "13/13 [==============================] - 4s 320ms/step - loss: 4.3027e-04 - val_loss: 0.0052\n",
            "Epoch 84/100\n",
            "13/13 [==============================] - 4s 319ms/step - loss: 4.4647e-04 - val_loss: 0.0064\n",
            "Epoch 85/100\n",
            "13/13 [==============================] - 4s 322ms/step - loss: 4.4405e-04 - val_loss: 0.0062\n",
            "Epoch 86/100\n",
            "13/13 [==============================] - 4s 321ms/step - loss: 4.4602e-04 - val_loss: 0.0088\n",
            "Epoch 87/100\n",
            "13/13 [==============================] - 4s 324ms/step - loss: 5.0974e-04 - val_loss: 0.0067\n",
            "Epoch 88/100\n",
            "13/13 [==============================] - 4s 316ms/step - loss: 4.3659e-04 - val_loss: 0.0058\n",
            "Epoch 89/100\n",
            "13/13 [==============================] - 4s 320ms/step - loss: 3.8854e-04 - val_loss: 0.0128\n",
            "Epoch 90/100\n",
            "13/13 [==============================] - 4s 319ms/step - loss: 4.7899e-04 - val_loss: 0.0056\n",
            "Epoch 91/100\n",
            "13/13 [==============================] - 4s 316ms/step - loss: 4.2477e-04 - val_loss: 0.0084\n",
            "Epoch 92/100\n",
            "13/13 [==============================] - 4s 321ms/step - loss: 4.0448e-04 - val_loss: 0.0043\n",
            "Epoch 93/100\n",
            "13/13 [==============================] - 4s 319ms/step - loss: 3.8020e-04 - val_loss: 0.0068\n",
            "Epoch 94/100\n",
            "13/13 [==============================] - 4s 319ms/step - loss: 4.3176e-04 - val_loss: 0.0051\n",
            "Epoch 95/100\n",
            "13/13 [==============================] - 4s 318ms/step - loss: 3.9834e-04 - val_loss: 0.0067\n",
            "Epoch 96/100\n",
            "13/13 [==============================] - 4s 317ms/step - loss: 3.7242e-04 - val_loss: 0.0078\n",
            "Epoch 97/100\n",
            "13/13 [==============================] - 4s 319ms/step - loss: 4.1292e-04 - val_loss: 0.0059\n",
            "Epoch 98/100\n",
            "13/13 [==============================] - 4s 319ms/step - loss: 3.3523e-04 - val_loss: 0.0050\n",
            "Epoch 99/100\n",
            "13/13 [==============================] - 4s 320ms/step - loss: 4.3402e-04 - val_loss: 0.0050\n",
            "Epoch 100/100\n",
            "13/13 [==============================] - 4s 318ms/step - loss: 3.4959e-04 - val_loss: 0.0045\n"
          ],
          "name": "stdout"
        },
        {
          "output_type": "execute_result",
          "data": {
            "text/plain": [
              "<tensorflow.python.keras.callbacks.History at 0x7f00feea67d0>"
            ]
          },
          "metadata": {
            "tags": []
          },
          "execution_count": 16
        }
      ]
    },
    {
      "cell_type": "code",
      "metadata": {
        "id": "Pr0ZP97ROROz"
      },
      "source": [
        "#Lets predict and check performance metrics\n",
        "train_predict = model.predict(x_train)\n",
        "test_predict = model.predict(x_test)"
      ],
      "execution_count": 17,
      "outputs": []
    },
    {
      "cell_type": "code",
      "metadata": {
        "id": "KJrFlKvwORO0"
      },
      "source": [
        "#Transform back to original form\n",
        "train_predict = scaler.inverse_transform(train_predict)\n",
        "test_predict = scaler.inverse_transform(test_predict)"
      ],
      "execution_count": 18,
      "outputs": []
    },
    {
      "cell_type": "code",
      "metadata": {
        "colab": {
          "base_uri": "https://localhost:8080/"
        },
        "id": "AaiEg7Z2ORO0",
        "outputId": "85451192-dd3f-49f2-a907-3fe0b2369b4b"
      },
      "source": [
        "#Calculate RMSE performance metrics\n",
        "math.sqrt(mean_squared_error(y_train, train_predict))"
      ],
      "execution_count": 19,
      "outputs": [
        {
          "output_type": "execute_result",
          "data": {
            "text/plain": [
              "807.375552547247"
            ]
          },
          "metadata": {
            "tags": []
          },
          "execution_count": 19
        }
      ]
    },
    {
      "cell_type": "code",
      "metadata": {
        "colab": {
          "base_uri": "https://localhost:8080/"
        },
        "id": "rG1OunqFORO1",
        "outputId": "ac711d59-2b06-483e-ce73-485d4716b962"
      },
      "source": [
        "#Test Data RMSE\n",
        "math.sqrt(mean_squared_error(y_test, test_predict))"
      ],
      "execution_count": 20,
      "outputs": [
        {
          "output_type": "execute_result",
          "data": {
            "text/plain": [
              "1324.8207222524886"
            ]
          },
          "metadata": {
            "tags": []
          },
          "execution_count": 20
        }
      ]
    },
    {
      "cell_type": "code",
      "metadata": {
        "colab": {
          "base_uri": "https://localhost:8080/",
          "height": 265
        },
        "id": "37fjvOFNORO2",
        "outputId": "ab698ede-73d4-461b-f9ac-b538c7049067"
      },
      "source": [
        "#Plotting\n",
        "\n",
        "#Shift train prediction for plotting\n",
        "look_back = 100\n",
        "trainPredictPlot = np.empty_like(df_close)\n",
        "trainPredictPlot[:,:] = np.nan\n",
        "trainPredictPlot[look_back:len(train_predict) + look_back, :] = train_predict\n",
        "\n",
        "#Shift test prediction for plotting\n",
        "testPredictPlot = np.empty_like(df_close)\n",
        "testPredictPlot[:,:] = np.nan\n",
        "testPredictPlot[len(train_predict) + (look_back * 2)+1:len(df_close) - 1, :] = test_predict\n",
        "\n",
        "#Plot baseline and predictions\n",
        "plt.plot(scaler.inverse_transform(df_close))\n",
        "plt.plot(trainPredictPlot)\n",
        "plt.plot(testPredictPlot)\n",
        "plt.show()"
      ],
      "execution_count": 22,
      "outputs": [
        {
          "output_type": "display_data",
          "data": {
            "image/png": "[encoded data removed]",
            "text/plain": [
              "<Figure size 432x288 with 1 Axes>"
            ]
          },
          "metadata": {
            "tags": [],
            "needs_background": "light"
          }
        }
      ]
    },
    {
      "cell_type": "markdown",
      "metadata": {
        "id": "WLQXAM43ORO3"
      },
      "source": [
        "### Predict the next 30 days Stock Price"
      ]
    },
    {
      "cell_type": "code",
      "metadata": {
        "colab": {
          "base_uri": "https://localhost:8080/"
        },
        "id": "y8wcsu0VORO3",
        "outputId": "0a6a71a5-4813-4c9a-8b3c-4dc2e88709ae"
      },
      "source": [
        "len(test_data), x_test.shape"
      ],
      "execution_count": 23,
      "outputs": [
        {
          "output_type": "execute_result",
          "data": {
            "text/plain": [
              "(307, (206, 100, 1))"
            ]
          },
          "metadata": {
            "tags": []
          },
          "execution_count": 23
        }
      ]
    },
    {
      "cell_type": "code",
      "metadata": {
        "colab": {
          "base_uri": "https://localhost:8080/"
        },
        "id": "fraSaodGORO4",
        "outputId": "0f94dd00-e534-48be-b167-6b3a6a8d3cd0"
      },
      "source": [
        "x_input = test_data[207:].reshape(1,-1)\n",
        "x_input.shape"
      ],
      "execution_count": 24,
      "outputs": [
        {
          "output_type": "execute_result",
          "data": {
            "text/plain": [
              "(1, 100)"
            ]
          },
          "metadata": {
            "tags": []
          },
          "execution_count": 24
        }
      ]
    },
    {
      "cell_type": "code",
      "metadata": {
        "id": "VNI0MToYORO4"
      },
      "source": [
        "temp_input = list(x_input)\n",
        "temp_input = temp_input[0].tolist()"
      ],
      "execution_count": 25,
      "outputs": []
    },
    {
      "cell_type": "code",
      "metadata": {
        "colab": {
          "base_uri": "https://localhost:8080/"
        },
        "id": "ns3mBtovORO5",
        "outputId": "ef00a2fa-45ed-451c-e44b-4c60d813c55d"
      },
      "source": [
        "lst_output=[]\n",
        "n_steps=100\n",
        "nextNumberOfDays = 30\n",
        "i=0\n",
        "\n",
        "while(i<nextNumberOfDays):\n",
        "    \n",
        "    if(len(temp_input)>100):\n",
        "        x_input=np.array(temp_input[1:])\n",
        "        print(\"{} day input {}\".format(i,x_input))\n",
        "        x_input=x_input.reshape(1,-1)\n",
        "        x_input = x_input.reshape((1, n_steps, 1))\n",
        "        yhat = model.predict(x_input, verbose=0)\n",
        "        print(\"{} day output {}\".format(i,yhat))\n",
        "        temp_input.extend(yhat[0].tolist())\n",
        "        temp_input=temp_input[1:]\n",
        "        lst_output.extend(yhat.tolist())\n",
        "        i=i+1\n",
        "    else:\n",
        "        x_input = x_input.reshape((1, n_steps,1))\n",
        "        yhat = model.predict(x_input, verbose=0)\n",
        "        print(yhat[0])\n",
        "        temp_input.extend(yhat[0].tolist())\n",
        "        print(len(temp_input))\n",
        "        lst_output.extend(yhat.tolist())\n",
        "        i=i+1\n",
        "    \n",
        "\n",
        "print(lst_output)"
      ],
      "execution_count": 26,
      "outputs": [
        {
          "output_type": "stream",
          "text": [
            "[0.8846044]\n",
            "101\n",
            "1 day input [0.94816663 0.9478738  0.94456879 0.93260407 0.92796036 0.939716\n",
            " 0.97577765 0.93507229 0.93636921 0.93590899 0.93047045 0.92603602\n",
            " 0.91348555 0.88436843 0.89114567 0.8609409  0.83408293 0.81220327\n",
            " 0.84642422 0.86491522 0.87269654 0.85249028 0.8541218  0.86847118\n",
            " 0.88315526 0.88637653 0.89763007 0.88980697 0.88072882 0.91118463\n",
            " 0.8962495  0.8619449  0.83805724 0.8176418  0.81283079 0.76463703\n",
            " 0.75417831 0.7765181  0.77388248 0.74999482 0.71640139 0.5851654\n",
            " 0.6181313  0.5423683  0.57776065 0.50279251 0.49634993 0.46330038\n",
            " 0.42079615 0.50467508 0.39264125 0.44229929 0.55847473 0.54504569\n",
            " 0.54454369 0.51513375 0.5848307  0.55696863 0.55445854 0.6620997\n",
            " 0.65042781 0.67368794 0.64791772 0.61503546 0.63026342 0.67707661\n",
            " 0.69364326 0.6882465  0.79387957 0.7999875  0.83855924 0.84922714\n",
            " 0.84788844 0.84688434 0.86803608 0.84250843 0.86360165 0.86368529\n",
            " 0.90198096 0.9474387  0.95987202 0.87902192 0.90503482 0.85441462\n",
            " 0.87403524 0.85843081 0.83178201 0.85253205 0.85884916 0.85073323\n",
            " 0.844458   0.862447   0.88478678 0.87821873 0.92503192 0.9378752\n",
            " 0.94285362 0.97477365 0.97636329 0.88460439]\n",
            "1 day output [[0.88060033]]\n",
            "2 day input [0.9478738  0.94456879 0.93260407 0.92796036 0.939716   0.97577765\n",
            " 0.93507229 0.93636921 0.93590899 0.93047045 0.92603602 0.91348555\n",
            " 0.88436843 0.89114567 0.8609409  0.83408293 0.81220327 0.84642422\n",
            " 0.86491522 0.87269654 0.85249028 0.8541218  0.86847118 0.88315526\n",
            " 0.88637653 0.89763007 0.88980697 0.88072882 0.91118463 0.8962495\n",
            " 0.8619449  0.83805724 0.8176418  0.81283079 0.76463703 0.75417831\n",
            " 0.7765181  0.77388248 0.74999482 0.71640139 0.5851654  0.6181313\n",
            " 0.5423683  0.57776065 0.50279251 0.49634993 0.46330038 0.42079615\n",
            " 0.50467508 0.39264125 0.44229929 0.55847473 0.54504569 0.54454369\n",
            " 0.51513375 0.5848307  0.55696863 0.55445854 0.6620997  0.65042781\n",
            " 0.67368794 0.64791772 0.61503546 0.63026342 0.67707661 0.69364326\n",
            " 0.6882465  0.79387957 0.7999875  0.83855924 0.84922714 0.84788844\n",
            " 0.84688434 0.86803608 0.84250843 0.86360165 0.86368529 0.90198096\n",
            " 0.9474387  0.95987202 0.87902192 0.90503482 0.85441462 0.87403524\n",
            " 0.85843081 0.83178201 0.85253205 0.85884916 0.85073323 0.844458\n",
            " 0.862447   0.88478678 0.87821873 0.92503192 0.9378752  0.94285362\n",
            " 0.97477365 0.97636329 0.88460439 0.88060033]\n",
            "2 day output [[0.86584467]]\n",
            "3 day input [0.94456879 0.93260407 0.92796036 0.939716   0.97577765 0.93507229\n",
            " 0.93636921 0.93590899 0.93047045 0.92603602 0.91348555 0.88436843\n",
            " 0.89114567 0.8609409  0.83408293 0.81220327 0.84642422 0.86491522\n",
            " 0.87269654 0.85249028 0.8541218  0.86847118 0.88315526 0.88637653\n",
            " 0.89763007 0.88980697 0.88072882 0.91118463 0.8962495  0.8619449\n",
            " 0.83805724 0.8176418  0.81283079 0.76463703 0.75417831 0.7765181\n",
            " 0.77388248 0.74999482 0.71640139 0.5851654  0.6181313  0.5423683\n",
            " 0.57776065 0.50279251 0.49634993 0.46330038 0.42079615 0.50467508\n",
            " 0.39264125 0.44229929 0.55847473 0.54504569 0.54454369 0.51513375\n",
            " 0.5848307  0.55696863 0.55445854 0.6620997  0.65042781 0.67368794\n",
            " 0.64791772 0.61503546 0.63026342 0.67707661 0.69364326 0.6882465\n",
            " 0.79387957 0.7999875  0.83855924 0.84922714 0.84788844 0.84688434\n",
            " 0.86803608 0.84250843 0.86360165 0.86368529 0.90198096 0.9474387\n",
            " 0.95987202 0.87902192 0.90503482 0.85441462 0.87403524 0.85843081\n",
            " 0.83178201 0.85253205 0.85884916 0.85073323 0.844458   0.862447\n",
            " 0.88478678 0.87821873 0.92503192 0.9378752  0.94285362 0.97477365\n",
            " 0.97636329 0.88460439 0.88060033 0.86584467]\n",
            "3 day output [[0.8461262]]\n",
            "4 day input [0.93260407 0.92796036 0.939716   0.97577765 0.93507229 0.93636921\n",
            " 0.93590899 0.93047045 0.92603602 0.91348555 0.88436843 0.89114567\n",
            " 0.8609409  0.83408293 0.81220327 0.84642422 0.86491522 0.87269654\n",
            " 0.85249028 0.8541218  0.86847118 0.88315526 0.88637653 0.89763007\n",
            " 0.88980697 0.88072882 0.91118463 0.8962495  0.8619449  0.83805724\n",
            " 0.8176418  0.81283079 0.76463703 0.75417831 0.7765181  0.77388248\n",
            " 0.74999482 0.71640139 0.5851654  0.6181313  0.5423683  0.57776065\n",
            " 0.50279251 0.49634993 0.46330038 0.42079615 0.50467508 0.39264125\n",
            " 0.44229929 0.55847473 0.54504569 0.54454369 0.51513375 0.5848307\n",
            " 0.55696863 0.55445854 0.6620997  0.65042781 0.67368794 0.64791772\n",
            " 0.61503546 0.63026342 0.67707661 0.69364326 0.6882465  0.79387957\n",
            " 0.7999875  0.83855924 0.84922714 0.84788844 0.84688434 0.86803608\n",
            " 0.84250843 0.86360165 0.86368529 0.90198096 0.9474387  0.95987202\n",
            " 0.87902192 0.90503482 0.85441462 0.87403524 0.85843081 0.83178201\n",
            " 0.85253205 0.85884916 0.85073323 0.844458   0.862447   0.88478678\n",
            " 0.87821873 0.92503192 0.9378752  0.94285362 0.97477365 0.97636329\n",
            " 0.88460439 0.88060033 0.86584467 0.8461262 ]\n",
            "4 day output [[0.8245592]]\n",
            "5 day input [0.92796036 0.939716   0.97577765 0.93507229 0.93636921 0.93590899\n",
            " 0.93047045 0.92603602 0.91348555 0.88436843 0.89114567 0.8609409\n",
            " 0.83408293 0.81220327 0.84642422 0.86491522 0.87269654 0.85249028\n",
            " 0.8541218  0.86847118 0.88315526 0.88637653 0.89763007 0.88980697\n",
            " 0.88072882 0.91118463 0.8962495  0.8619449  0.83805724 0.8176418\n",
            " 0.81283079 0.76463703 0.75417831 0.7765181  0.77388248 0.74999482\n",
            " 0.71640139 0.5851654  0.6181313  0.5423683  0.57776065 0.50279251\n",
            " 0.49634993 0.46330038 0.42079615 0.50467508 0.39264125 0.44229929\n",
            " 0.55847473 0.54504569 0.54454369 0.51513375 0.5848307  0.55696863\n",
            " 0.55445854 0.6620997  0.65042781 0.67368794 0.64791772 0.61503546\n",
            " 0.63026342 0.67707661 0.69364326 0.6882465  0.79387957 0.7999875\n",
            " 0.83855924 0.84922714 0.84788844 0.84688434 0.86803608 0.84250843\n",
            " 0.86360165 0.86368529 0.90198096 0.9474387  0.95987202 0.87902192\n",
            " 0.90503482 0.85441462 0.87403524 0.85843081 0.83178201 0.85253205\n",
            " 0.85884916 0.85073323 0.844458   0.862447   0.88478678 0.87821873\n",
            " 0.92503192 0.9378752  0.94285362 0.97477365 0.97636329 0.88460439\n",
            " 0.88060033 0.86584467 0.8461262  0.82455921]\n",
            "5 day output [[0.8027383]]\n",
            "6 day input [0.939716   0.97577765 0.93507229 0.93636921 0.93590899 0.93047045\n",
            " 0.92603602 0.91348555 0.88436843 0.89114567 0.8609409  0.83408293\n",
            " 0.81220327 0.84642422 0.86491522 0.87269654 0.85249028 0.8541218\n",
            " 0.86847118 0.88315526 0.88637653 0.89763007 0.88980697 0.88072882\n",
            " 0.91118463 0.8962495  0.8619449  0.83805724 0.8176418  0.81283079\n",
            " 0.76463703 0.75417831 0.7765181  0.77388248 0.74999482 0.71640139\n",
            " 0.5851654  0.6181313  0.5423683  0.57776065 0.50279251 0.49634993\n",
            " 0.46330038 0.42079615 0.50467508 0.39264125 0.44229929 0.55847473\n",
            " 0.54504569 0.54454369 0.51513375 0.5848307  0.55696863 0.55445854\n",
            " 0.6620997  0.65042781 0.67368794 0.64791772 0.61503546 0.63026342\n",
            " 0.67707661 0.69364326 0.6882465  0.79387957 0.7999875  0.83855924\n",
            " 0.84922714 0.84788844 0.84688434 0.86803608 0.84250843 0.86360165\n",
            " 0.86368529 0.90198096 0.9474387  0.95987202 0.87902192 0.90503482\n",
            " 0.85441462 0.87403524 0.85843081 0.83178201 0.85253205 0.85884916\n",
            " 0.85073323 0.844458   0.862447   0.88478678 0.87821873 0.92503192\n",
            " 0.9378752  0.94285362 0.97477365 0.97636329 0.88460439 0.88060033\n",
            " 0.86584467 0.8461262  0.82455921 0.80273831]\n",
            "6 day output [[0.7815081]]\n",
            "7 day input [0.97577765 0.93507229 0.93636921 0.93590899 0.93047045 0.92603602\n",
            " 0.91348555 0.88436843 0.89114567 0.8609409  0.83408293 0.81220327\n",
            " 0.84642422 0.86491522 0.87269654 0.85249028 0.8541218  0.86847118\n",
            " 0.88315526 0.88637653 0.89763007 0.88980697 0.88072882 0.91118463\n",
            " 0.8962495  0.8619449  0.83805724 0.8176418  0.81283079 0.76463703\n",
            " 0.75417831 0.7765181  0.77388248 0.74999482 0.71640139 0.5851654\n",
            " 0.6181313  0.5423683  0.57776065 0.50279251 0.49634993 0.46330038\n",
            " 0.42079615 0.50467508 0.39264125 0.44229929 0.55847473 0.54504569\n",
            " 0.54454369 0.51513375 0.5848307  0.55696863 0.55445854 0.6620997\n",
            " 0.65042781 0.67368794 0.64791772 0.61503546 0.63026342 0.67707661\n",
            " 0.69364326 0.6882465  0.79387957 0.7999875  0.83855924 0.84922714\n",
            " 0.84788844 0.84688434 0.86803608 0.84250843 0.86360165 0.86368529\n",
            " 0.90198096 0.9474387  0.95987202 0.87902192 0.90503482 0.85441462\n",
            " 0.87403524 0.85843081 0.83178201 0.85253205 0.85884916 0.85073323\n",
            " 0.844458   0.862447   0.88478678 0.87821873 0.92503192 0.9378752\n",
            " 0.94285362 0.97477365 0.97636329 0.88460439 0.88060033 0.86584467\n",
            " 0.8461262  0.82455921 0.80273831 0.78150809]\n",
            "7 day output [[0.7612754]]\n",
            "8 day input [0.93507229 0.93636921 0.93590899 0.93047045 0.92603602 0.91348555\n",
            " 0.88436843 0.89114567 0.8609409  0.83408293 0.81220327 0.84642422\n",
            " 0.86491522 0.87269654 0.85249028 0.8541218  0.86847118 0.88315526\n",
            " 0.88637653 0.89763007 0.88980697 0.88072882 0.91118463 0.8962495\n",
            " 0.8619449  0.83805724 0.8176418  0.81283079 0.76463703 0.75417831\n",
            " 0.7765181  0.77388248 0.74999482 0.71640139 0.5851654  0.6181313\n",
            " 0.5423683  0.57776065 0.50279251 0.49634993 0.46330038 0.42079615\n",
            " 0.50467508 0.39264125 0.44229929 0.55847473 0.54504569 0.54454369\n",
            " 0.51513375 0.5848307  0.55696863 0.55445854 0.6620997  0.65042781\n",
            " 0.67368794 0.64791772 0.61503546 0.63026342 0.67707661 0.69364326\n",
            " 0.6882465  0.79387957 0.7999875  0.83855924 0.84922714 0.84788844\n",
            " 0.84688434 0.86803608 0.84250843 0.86360165 0.86368529 0.90198096\n",
            " 0.9474387  0.95987202 0.87902192 0.90503482 0.85441462 0.87403524\n",
            " 0.85843081 0.83178201 0.85253205 0.85884916 0.85073323 0.844458\n",
            " 0.862447   0.88478678 0.87821873 0.92503192 0.9378752  0.94285362\n",
            " 0.97477365 0.97636329 0.88460439 0.88060033 0.86584467 0.8461262\n",
            " 0.82455921 0.80273831 0.78150809 0.76127541]\n",
            "8 day output [[0.74226034]]\n",
            "9 day input [0.93636921 0.93590899 0.93047045 0.92603602 0.91348555 0.88436843\n",
            " 0.89114567 0.8609409  0.83408293 0.81220327 0.84642422 0.86491522\n",
            " 0.87269654 0.85249028 0.8541218  0.86847118 0.88315526 0.88637653\n",
            " 0.89763007 0.88980697 0.88072882 0.91118463 0.8962495  0.8619449\n",
            " 0.83805724 0.8176418  0.81283079 0.76463703 0.75417831 0.7765181\n",
            " 0.77388248 0.74999482 0.71640139 0.5851654  0.6181313  0.5423683\n",
            " 0.57776065 0.50279251 0.49634993 0.46330038 0.42079615 0.50467508\n",
            " 0.39264125 0.44229929 0.55847473 0.54504569 0.54454369 0.51513375\n",
            " 0.5848307  0.55696863 0.55445854 0.6620997  0.65042781 0.67368794\n",
            " 0.64791772 0.61503546 0.63026342 0.67707661 0.69364326 0.6882465\n",
            " 0.79387957 0.7999875  0.83855924 0.84922714 0.84788844 0.84688434\n",
            " 0.86803608 0.84250843 0.86360165 0.86368529 0.90198096 0.9474387\n",
            " 0.95987202 0.87902192 0.90503482 0.85441462 0.87403524 0.85843081\n",
            " 0.83178201 0.85253205 0.85884916 0.85073323 0.844458   0.862447\n",
            " 0.88478678 0.87821873 0.92503192 0.9378752  0.94285362 0.97477365\n",
            " 0.97636329 0.88460439 0.88060033 0.86584467 0.8461262  0.82455921\n",
            " 0.80273831 0.78150809 0.76127541 0.74226034]\n",
            "9 day output [[0.7248045]]\n",
            "10 day input [0.93590899 0.93047045 0.92603602 0.91348555 0.88436843 0.89114567\n",
            " 0.8609409  0.83408293 0.81220327 0.84642422 0.86491522 0.87269654\n",
            " 0.85249028 0.8541218  0.86847118 0.88315526 0.88637653 0.89763007\n",
            " 0.88980697 0.88072882 0.91118463 0.8962495  0.8619449  0.83805724\n",
            " 0.8176418  0.81283079 0.76463703 0.75417831 0.7765181  0.77388248\n",
            " 0.74999482 0.71640139 0.5851654  0.6181313  0.5423683  0.57776065\n",
            " 0.50279251 0.49634993 0.46330038 0.42079615 0.50467508 0.39264125\n",
            " 0.44229929 0.55847473 0.54504569 0.54454369 0.51513375 0.5848307\n",
            " 0.55696863 0.55445854 0.6620997  0.65042781 0.67368794 0.64791772\n",
            " 0.61503546 0.63026342 0.67707661 0.69364326 0.6882465  0.79387957\n",
            " 0.7999875  0.83855924 0.84922714 0.84788844 0.84688434 0.86803608\n",
            " 0.84250843 0.86360165 0.86368529 0.90198096 0.9474387  0.95987202\n",
            " 0.87902192 0.90503482 0.85441462 0.87403524 0.85843081 0.83178201\n",
            " 0.85253205 0.85884916 0.85073323 0.844458   0.862447   0.88478678\n",
            " 0.87821873 0.92503192 0.9378752  0.94285362 0.97477365 0.97636329\n",
            " 0.88460439 0.88060033 0.86584467 0.8461262  0.82455921 0.80273831\n",
            " 0.78150809 0.76127541 0.74226034 0.72480452]\n",
            "10 day output [[0.7090394]]\n",
            "11 day input [0.93047045 0.92603602 0.91348555 0.88436843 0.89114567 0.8609409\n",
            " 0.83408293 0.81220327 0.84642422 0.86491522 0.87269654 0.85249028\n",
            " 0.8541218  0.86847118 0.88315526 0.88637653 0.89763007 0.88980697\n",
            " 0.88072882 0.91118463 0.8962495  0.8619449  0.83805724 0.8176418\n",
            " 0.81283079 0.76463703 0.75417831 0.7765181  0.77388248 0.74999482\n",
            " 0.71640139 0.5851654  0.6181313  0.5423683  0.57776065 0.50279251\n",
            " 0.49634993 0.46330038 0.42079615 0.50467508 0.39264125 0.44229929\n",
            " 0.55847473 0.54504569 0.54454369 0.51513375 0.5848307  0.55696863\n",
            " 0.55445854 0.6620997  0.65042781 0.67368794 0.64791772 0.61503546\n",
            " 0.63026342 0.67707661 0.69364326 0.6882465  0.79387957 0.7999875\n",
            " 0.83855924 0.84922714 0.84788844 0.84688434 0.86803608 0.84250843\n",
            " 0.86360165 0.86368529 0.90198096 0.9474387  0.95987202 0.87902192\n",
            " 0.90503482 0.85441462 0.87403524 0.85843081 0.83178201 0.85253205\n",
            " 0.85884916 0.85073323 0.844458   0.862447   0.88478678 0.87821873\n",
            " 0.92503192 0.9378752  0.94285362 0.97477365 0.97636329 0.88460439\n",
            " 0.88060033 0.86584467 0.8461262  0.82455921 0.80273831 0.78150809\n",
            " 0.76127541 0.74226034 0.72480452 0.70903939]\n",
            "11 day output [[0.6950127]]\n",
            "12 day input [0.92603602 0.91348555 0.88436843 0.89114567 0.8609409  0.83408293\n",
            " 0.81220327 0.84642422 0.86491522 0.87269654 0.85249028 0.8541218\n",
            " 0.86847118 0.88315526 0.88637653 0.89763007 0.88980697 0.88072882\n",
            " 0.91118463 0.8962495  0.8619449  0.83805724 0.8176418  0.81283079\n",
            " 0.76463703 0.75417831 0.7765181  0.77388248 0.74999482 0.71640139\n",
            " 0.5851654  0.6181313  0.5423683  0.57776065 0.50279251 0.49634993\n",
            " 0.46330038 0.42079615 0.50467508 0.39264125 0.44229929 0.55847473\n",
            " 0.54504569 0.54454369 0.51513375 0.5848307  0.55696863 0.55445854\n",
            " 0.6620997  0.65042781 0.67368794 0.64791772 0.61503546 0.63026342\n",
            " 0.67707661 0.69364326 0.6882465  0.79387957 0.7999875  0.83855924\n",
            " 0.84922714 0.84788844 0.84688434 0.86803608 0.84250843 0.86360165\n",
            " 0.86368529 0.90198096 0.9474387  0.95987202 0.87902192 0.90503482\n",
            " 0.85441462 0.87403524 0.85843081 0.83178201 0.85253205 0.85884916\n",
            " 0.85073323 0.844458   0.862447   0.88478678 0.87821873 0.92503192\n",
            " 0.9378752  0.94285362 0.97477365 0.97636329 0.88460439 0.88060033\n",
            " 0.86584467 0.8461262  0.82455921 0.80273831 0.78150809 0.76127541\n",
            " 0.74226034 0.72480452 0.70903939 0.69501269]\n",
            "12 day output [[0.68271744]]\n",
            "13 day input [0.91348555 0.88436843 0.89114567 0.8609409  0.83408293 0.81220327\n",
            " 0.84642422 0.86491522 0.87269654 0.85249028 0.8541218  0.86847118\n",
            " 0.88315526 0.88637653 0.89763007 0.88980697 0.88072882 0.91118463\n",
            " 0.8962495  0.8619449  0.83805724 0.8176418  0.81283079 0.76463703\n",
            " 0.75417831 0.7765181  0.77388248 0.74999482 0.71640139 0.5851654\n",
            " 0.6181313  0.5423683  0.57776065 0.50279251 0.49634993 0.46330038\n",
            " 0.42079615 0.50467508 0.39264125 0.44229929 0.55847473 0.54504569\n",
            " 0.54454369 0.51513375 0.5848307  0.55696863 0.55445854 0.6620997\n",
            " 0.65042781 0.67368794 0.64791772 0.61503546 0.63026342 0.67707661\n",
            " 0.69364326 0.6882465  0.79387957 0.7999875  0.83855924 0.84922714\n",
            " 0.84788844 0.84688434 0.86803608 0.84250843 0.86360165 0.86368529\n",
            " 0.90198096 0.9474387  0.95987202 0.87902192 0.90503482 0.85441462\n",
            " 0.87403524 0.85843081 0.83178201 0.85253205 0.85884916 0.85073323\n",
            " 0.844458   0.862447   0.88478678 0.87821873 0.92503192 0.9378752\n",
            " 0.94285362 0.97477365 0.97636329 0.88460439 0.88060033 0.86584467\n",
            " 0.8461262  0.82455921 0.80273831 0.78150809 0.76127541 0.74226034\n",
            " 0.72480452 0.70903939 0.69501269 0.68271744]\n",
            "13 day output [[0.67210424]]\n",
            "14 day input [0.88436843 0.89114567 0.8609409  0.83408293 0.81220327 0.84642422\n",
            " 0.86491522 0.87269654 0.85249028 0.8541218  0.86847118 0.88315526\n",
            " 0.88637653 0.89763007 0.88980697 0.88072882 0.91118463 0.8962495\n",
            " 0.8619449  0.83805724 0.8176418  0.81283079 0.76463703 0.75417831\n",
            " 0.7765181  0.77388248 0.74999482 0.71640139 0.5851654  0.6181313\n",
            " 0.5423683  0.57776065 0.50279251 0.49634993 0.46330038 0.42079615\n",
            " 0.50467508 0.39264125 0.44229929 0.55847473 0.54504569 0.54454369\n",
            " 0.51513375 0.5848307  0.55696863 0.55445854 0.6620997  0.65042781\n",
            " 0.67368794 0.64791772 0.61503546 0.63026342 0.67707661 0.69364326\n",
            " 0.6882465  0.79387957 0.7999875  0.83855924 0.84922714 0.84788844\n",
            " 0.84688434 0.86803608 0.84250843 0.86360165 0.86368529 0.90198096\n",
            " 0.9474387  0.95987202 0.87902192 0.90503482 0.85441462 0.87403524\n",
            " 0.85843081 0.83178201 0.85253205 0.85884916 0.85073323 0.844458\n",
            " 0.862447   0.88478678 0.87821873 0.92503192 0.9378752  0.94285362\n",
            " 0.97477365 0.97636329 0.88460439 0.88060033 0.86584467 0.8461262\n",
            " 0.82455921 0.80273831 0.78150809 0.76127541 0.74226034 0.72480452\n",
            " 0.70903939 0.69501269 0.68271744 0.67210424]\n",
            "14 day output [[0.6630924]]\n",
            "15 day input [0.89114567 0.8609409  0.83408293 0.81220327 0.84642422 0.86491522\n",
            " 0.87269654 0.85249028 0.8541218  0.86847118 0.88315526 0.88637653\n",
            " 0.89763007 0.88980697 0.88072882 0.91118463 0.8962495  0.8619449\n",
            " 0.83805724 0.8176418  0.81283079 0.76463703 0.75417831 0.7765181\n",
            " 0.77388248 0.74999482 0.71640139 0.5851654  0.6181313  0.5423683\n",
            " 0.57776065 0.50279251 0.49634993 0.46330038 0.42079615 0.50467508\n",
            " 0.39264125 0.44229929 0.55847473 0.54504569 0.54454369 0.51513375\n",
            " 0.5848307  0.55696863 0.55445854 0.6620997  0.65042781 0.67368794\n",
            " 0.64791772 0.61503546 0.63026342 0.67707661 0.69364326 0.6882465\n",
            " 0.79387957 0.7999875  0.83855924 0.84922714 0.84788844 0.84688434\n",
            " 0.86803608 0.84250843 0.86360165 0.86368529 0.90198096 0.9474387\n",
            " 0.95987202 0.87902192 0.90503482 0.85441462 0.87403524 0.85843081\n",
            " 0.83178201 0.85253205 0.85884916 0.85073323 0.844458   0.862447\n",
            " 0.88478678 0.87821873 0.92503192 0.9378752  0.94285362 0.97477365\n",
            " 0.97636329 0.88460439 0.88060033 0.86584467 0.8461262  0.82455921\n",
            " 0.80273831 0.78150809 0.76127541 0.74226034 0.72480452 0.70903939\n",
            " 0.69501269 0.68271744 0.67210424 0.66309237]\n",
            "15 day output [[0.6555764]]\n",
            "16 day input [0.8609409  0.83408293 0.81220327 0.84642422 0.86491522 0.87269654\n",
            " 0.85249028 0.8541218  0.86847118 0.88315526 0.88637653 0.89763007\n",
            " 0.88980697 0.88072882 0.91118463 0.8962495  0.8619449  0.83805724\n",
            " 0.8176418  0.81283079 0.76463703 0.75417831 0.7765181  0.77388248\n",
            " 0.74999482 0.71640139 0.5851654  0.6181313  0.5423683  0.57776065\n",
            " 0.50279251 0.49634993 0.46330038 0.42079615 0.50467508 0.39264125\n",
            " 0.44229929 0.55847473 0.54504569 0.54454369 0.51513375 0.5848307\n",
            " 0.55696863 0.55445854 0.6620997  0.65042781 0.67368794 0.64791772\n",
            " 0.61503546 0.63026342 0.67707661 0.69364326 0.6882465  0.79387957\n",
            " 0.7999875  0.83855924 0.84922714 0.84788844 0.84688434 0.86803608\n",
            " 0.84250843 0.86360165 0.86368529 0.90198096 0.9474387  0.95987202\n",
            " 0.87902192 0.90503482 0.85441462 0.87403524 0.85843081 0.83178201\n",
            " 0.85253205 0.85884916 0.85073323 0.844458   0.862447   0.88478678\n",
            " 0.87821873 0.92503192 0.9378752  0.94285362 0.97477365 0.97636329\n",
            " 0.88460439 0.88060033 0.86584467 0.8461262  0.82455921 0.80273831\n",
            " 0.78150809 0.76127541 0.74226034 0.72480452 0.70903939 0.69501269\n",
            " 0.68271744 0.67210424 0.66309237 0.65557641]\n",
            "16 day output [[0.6494326]]\n",
            "17 day input [0.83408293 0.81220327 0.84642422 0.86491522 0.87269654 0.85249028\n",
            " 0.8541218  0.86847118 0.88315526 0.88637653 0.89763007 0.88980697\n",
            " 0.88072882 0.91118463 0.8962495  0.8619449  0.83805724 0.8176418\n",
            " 0.81283079 0.76463703 0.75417831 0.7765181  0.77388248 0.74999482\n",
            " 0.71640139 0.5851654  0.6181313  0.5423683  0.57776065 0.50279251\n",
            " 0.49634993 0.46330038 0.42079615 0.50467508 0.39264125 0.44229929\n",
            " 0.55847473 0.54504569 0.54454369 0.51513375 0.5848307  0.55696863\n",
            " 0.55445854 0.6620997  0.65042781 0.67368794 0.64791772 0.61503546\n",
            " 0.63026342 0.67707661 0.69364326 0.6882465  0.79387957 0.7999875\n",
            " 0.83855924 0.84922714 0.84788844 0.84688434 0.86803608 0.84250843\n",
            " 0.86360165 0.86368529 0.90198096 0.9474387  0.95987202 0.87902192\n",
            " 0.90503482 0.85441462 0.87403524 0.85843081 0.83178201 0.85253205\n",
            " 0.85884916 0.85073323 0.844458   0.862447   0.88478678 0.87821873\n",
            " 0.92503192 0.9378752  0.94285362 0.97477365 0.97636329 0.88460439\n",
            " 0.88060033 0.86584467 0.8461262  0.82455921 0.80273831 0.78150809\n",
            " 0.76127541 0.74226034 0.72480452 0.70903939 0.69501269 0.68271744\n",
            " 0.67210424 0.66309237 0.65557641 0.6494326 ]\n",
            "17 day output [[0.644526]]\n",
            "18 day input [0.81220327 0.84642422 0.86491522 0.87269654 0.85249028 0.8541218\n",
            " 0.86847118 0.88315526 0.88637653 0.89763007 0.88980697 0.88072882\n",
            " 0.91118463 0.8962495  0.8619449  0.83805724 0.8176418  0.81283079\n",
            " 0.76463703 0.75417831 0.7765181  0.77388248 0.74999482 0.71640139\n",
            " 0.5851654  0.6181313  0.5423683  0.57776065 0.50279251 0.49634993\n",
            " 0.46330038 0.42079615 0.50467508 0.39264125 0.44229929 0.55847473\n",
            " 0.54504569 0.54454369 0.51513375 0.5848307  0.55696863 0.55445854\n",
            " 0.6620997  0.65042781 0.67368794 0.64791772 0.61503546 0.63026342\n",
            " 0.67707661 0.69364326 0.6882465  0.79387957 0.7999875  0.83855924\n",
            " 0.84922714 0.84788844 0.84688434 0.86803608 0.84250843 0.86360165\n",
            " 0.86368529 0.90198096 0.9474387  0.95987202 0.87902192 0.90503482\n",
            " 0.85441462 0.87403524 0.85843081 0.83178201 0.85253205 0.85884916\n",
            " 0.85073323 0.844458   0.862447   0.88478678 0.87821873 0.92503192\n",
            " 0.9378752  0.94285362 0.97477365 0.97636329 0.88460439 0.88060033\n",
            " 0.86584467 0.8461262  0.82455921 0.80273831 0.78150809 0.76127541\n",
            " 0.74226034 0.72480452 0.70903939 0.69501269 0.68271744 0.67210424\n",
            " 0.66309237 0.65557641 0.6494326  0.644526  ]\n",
            "18 day output [[0.6407158]]\n",
            "19 day input [0.84642422 0.86491522 0.87269654 0.85249028 0.8541218  0.86847118\n",
            " 0.88315526 0.88637653 0.89763007 0.88980697 0.88072882 0.91118463\n",
            " 0.8962495  0.8619449  0.83805724 0.8176418  0.81283079 0.76463703\n",
            " 0.75417831 0.7765181  0.77388248 0.74999482 0.71640139 0.5851654\n",
            " 0.6181313  0.5423683  0.57776065 0.50279251 0.49634993 0.46330038\n",
            " 0.42079615 0.50467508 0.39264125 0.44229929 0.55847473 0.54504569\n",
            " 0.54454369 0.51513375 0.5848307  0.55696863 0.55445854 0.6620997\n",
            " 0.65042781 0.67368794 0.64791772 0.61503546 0.63026342 0.67707661\n",
            " 0.69364326 0.6882465  0.79387957 0.7999875  0.83855924 0.84922714\n",
            " 0.84788844 0.84688434 0.86803608 0.84250843 0.86360165 0.86368529\n",
            " 0.90198096 0.9474387  0.95987202 0.87902192 0.90503482 0.85441462\n",
            " 0.87403524 0.85843081 0.83178201 0.85253205 0.85884916 0.85073323\n",
            " 0.844458   0.862447   0.88478678 0.87821873 0.92503192 0.9378752\n",
            " 0.94285362 0.97477365 0.97636329 0.88460439 0.88060033 0.86584467\n",
            " 0.8461262  0.82455921 0.80273831 0.78150809 0.76127541 0.74226034\n",
            " 0.72480452 0.70903939 0.69501269 0.68271744 0.67210424 0.66309237\n",
            " 0.65557641 0.6494326  0.644526   0.64071578]\n",
            "19 day output [[0.6378591]]\n",
            "20 day input [0.86491522 0.87269654 0.85249028 0.8541218  0.86847118 0.88315526\n",
            " 0.88637653 0.89763007 0.88980697 0.88072882 0.91118463 0.8962495\n",
            " 0.8619449  0.83805724 0.8176418  0.81283079 0.76463703 0.75417831\n",
            " 0.7765181  0.77388248 0.74999482 0.71640139 0.5851654  0.6181313\n",
            " 0.5423683  0.57776065 0.50279251 0.49634993 0.46330038 0.42079615\n",
            " 0.50467508 0.39264125 0.44229929 0.55847473 0.54504569 0.54454369\n",
            " 0.51513375 0.5848307  0.55696863 0.55445854 0.6620997  0.65042781\n",
            " 0.67368794 0.64791772 0.61503546 0.63026342 0.67707661 0.69364326\n",
            " 0.6882465  0.79387957 0.7999875  0.83855924 0.84922714 0.84788844\n",
            " 0.84688434 0.86803608 0.84250843 0.86360165 0.86368529 0.90198096\n",
            " 0.9474387  0.95987202 0.87902192 0.90503482 0.85441462 0.87403524\n",
            " 0.85843081 0.83178201 0.85253205 0.85884916 0.85073323 0.844458\n",
            " 0.862447   0.88478678 0.87821873 0.92503192 0.9378752  0.94285362\n",
            " 0.97477365 0.97636329 0.88460439 0.88060033 0.86584467 0.8461262\n",
            " 0.82455921 0.80273831 0.78150809 0.76127541 0.74226034 0.72480452\n",
            " 0.70903939 0.69501269 0.68271744 0.67210424 0.66309237 0.65557641\n",
            " 0.6494326  0.644526   0.64071578 0.63785911]\n",
            "20 day output [[0.6358154]]\n",
            "21 day input [0.87269654 0.85249028 0.8541218  0.86847118 0.88315526 0.88637653\n",
            " 0.89763007 0.88980697 0.88072882 0.91118463 0.8962495  0.8619449\n",
            " 0.83805724 0.8176418  0.81283079 0.76463703 0.75417831 0.7765181\n",
            " 0.77388248 0.74999482 0.71640139 0.5851654  0.6181313  0.5423683\n",
            " 0.57776065 0.50279251 0.49634993 0.46330038 0.42079615 0.50467508\n",
            " 0.39264125 0.44229929 0.55847473 0.54504569 0.54454369 0.51513375\n",
            " 0.5848307  0.55696863 0.55445854 0.6620997  0.65042781 0.67368794\n",
            " 0.64791772 0.61503546 0.63026342 0.67707661 0.69364326 0.6882465\n",
            " 0.79387957 0.7999875  0.83855924 0.84922714 0.84788844 0.84688434\n",
            " 0.86803608 0.84250843 0.86360165 0.86368529 0.90198096 0.9474387\n",
            " 0.95987202 0.87902192 0.90503482 0.85441462 0.87403524 0.85843081\n",
            " 0.83178201 0.85253205 0.85884916 0.85073323 0.844458   0.862447\n",
            " 0.88478678 0.87821873 0.92503192 0.9378752  0.94285362 0.97477365\n",
            " 0.97636329 0.88460439 0.88060033 0.86584467 0.8461262  0.82455921\n",
            " 0.80273831 0.78150809 0.76127541 0.74226034 0.72480452 0.70903939\n",
            " 0.69501269 0.68271744 0.67210424 0.66309237 0.65557641 0.6494326\n",
            " 0.644526   0.64071578 0.63785911 0.63581538]\n",
            "21 day output [[0.63445115]]\n",
            "22 day input [0.85249028 0.8541218  0.86847118 0.88315526 0.88637653 0.89763007\n",
            " 0.88980697 0.88072882 0.91118463 0.8962495  0.8619449  0.83805724\n",
            " 0.8176418  0.81283079 0.76463703 0.75417831 0.7765181  0.77388248\n",
            " 0.74999482 0.71640139 0.5851654  0.6181313  0.5423683  0.57776065\n",
            " 0.50279251 0.49634993 0.46330038 0.42079615 0.50467508 0.39264125\n",
            " 0.44229929 0.55847473 0.54504569 0.54454369 0.51513375 0.5848307\n",
            " 0.55696863 0.55445854 0.6620997  0.65042781 0.67368794 0.64791772\n",
            " 0.61503546 0.63026342 0.67707661 0.69364326 0.6882465  0.79387957\n",
            " 0.7999875  0.83855924 0.84922714 0.84788844 0.84688434 0.86803608\n",
            " 0.84250843 0.86360165 0.86368529 0.90198096 0.9474387  0.95987202\n",
            " 0.87902192 0.90503482 0.85441462 0.87403524 0.85843081 0.83178201\n",
            " 0.85253205 0.85884916 0.85073323 0.844458   0.862447   0.88478678\n",
            " 0.87821873 0.92503192 0.9378752  0.94285362 0.97477365 0.97636329\n",
            " 0.88460439 0.88060033 0.86584467 0.8461262  0.82455921 0.80273831\n",
            " 0.78150809 0.76127541 0.74226034 0.72480452 0.70903939 0.69501269\n",
            " 0.68271744 0.67210424 0.66309237 0.65557641 0.6494326  0.644526\n",
            " 0.64071578 0.63785911 0.63581538 0.63445115]\n",
            "22 day output [[0.6336421]]\n",
            "23 day input [0.8541218  0.86847118 0.88315526 0.88637653 0.89763007 0.88980697\n",
            " 0.88072882 0.91118463 0.8962495  0.8619449  0.83805724 0.8176418\n",
            " 0.81283079 0.76463703 0.75417831 0.7765181  0.77388248 0.74999482\n",
            " 0.71640139 0.5851654  0.6181313  0.5423683  0.57776065 0.50279251\n",
            " 0.49634993 0.46330038 0.42079615 0.50467508 0.39264125 0.44229929\n",
            " 0.55847473 0.54504569 0.54454369 0.51513375 0.5848307  0.55696863\n",
            " 0.55445854 0.6620997  0.65042781 0.67368794 0.64791772 0.61503546\n",
            " 0.63026342 0.67707661 0.69364326 0.6882465  0.79387957 0.7999875\n",
            " 0.83855924 0.84922714 0.84788844 0.84688434 0.86803608 0.84250843\n",
            " 0.86360165 0.86368529 0.90198096 0.9474387  0.95987202 0.87902192\n",
            " 0.90503482 0.85441462 0.87403524 0.85843081 0.83178201 0.85253205\n",
            " 0.85884916 0.85073323 0.844458   0.862447   0.88478678 0.87821873\n",
            " 0.92503192 0.9378752  0.94285362 0.97477365 0.97636329 0.88460439\n",
            " 0.88060033 0.86584467 0.8461262  0.82455921 0.80273831 0.78150809\n",
            " 0.76127541 0.74226034 0.72480452 0.70903939 0.69501269 0.68271744\n",
            " 0.67210424 0.66309237 0.65557641 0.6494326  0.644526   0.64071578\n",
            " 0.63785911 0.63581538 0.63445115 0.63364208]\n",
            "23 day output [[0.63327414]]\n",
            "24 day input [0.86847118 0.88315526 0.88637653 0.89763007 0.88980697 0.88072882\n",
            " 0.91118463 0.8962495  0.8619449  0.83805724 0.8176418  0.81283079\n",
            " 0.76463703 0.75417831 0.7765181  0.77388248 0.74999482 0.71640139\n",
            " 0.5851654  0.6181313  0.5423683  0.57776065 0.50279251 0.49634993\n",
            " 0.46330038 0.42079615 0.50467508 0.39264125 0.44229929 0.55847473\n",
            " 0.54504569 0.54454369 0.51513375 0.5848307  0.55696863 0.55445854\n",
            " 0.6620997  0.65042781 0.67368794 0.64791772 0.61503546 0.63026342\n",
            " 0.67707661 0.69364326 0.6882465  0.79387957 0.7999875  0.83855924\n",
            " 0.84922714 0.84788844 0.84688434 0.86803608 0.84250843 0.86360165\n",
            " 0.86368529 0.90198096 0.9474387  0.95987202 0.87902192 0.90503482\n",
            " 0.85441462 0.87403524 0.85843081 0.83178201 0.85253205 0.85884916\n",
            " 0.85073323 0.844458   0.862447   0.88478678 0.87821873 0.92503192\n",
            " 0.9378752  0.94285362 0.97477365 0.97636329 0.88460439 0.88060033\n",
            " 0.86584467 0.8461262  0.82455921 0.80273831 0.78150809 0.76127541\n",
            " 0.74226034 0.72480452 0.70903939 0.69501269 0.68271744 0.67210424\n",
            " 0.66309237 0.65557641 0.6494326  0.644526   0.64071578 0.63785911\n",
            " 0.63581538 0.63445115 0.63364208 0.63327414]\n",
            "24 day output [[0.63324344]]\n",
            "25 day input [0.88315526 0.88637653 0.89763007 0.88980697 0.88072882 0.91118463\n",
            " 0.8962495  0.8619449  0.83805724 0.8176418  0.81283079 0.76463703\n",
            " 0.75417831 0.7765181  0.77388248 0.74999482 0.71640139 0.5851654\n",
            " 0.6181313  0.5423683  0.57776065 0.50279251 0.49634993 0.46330038\n",
            " 0.42079615 0.50467508 0.39264125 0.44229929 0.55847473 0.54504569\n",
            " 0.54454369 0.51513375 0.5848307  0.55696863 0.55445854 0.6620997\n",
            " 0.65042781 0.67368794 0.64791772 0.61503546 0.63026342 0.67707661\n",
            " 0.69364326 0.6882465  0.79387957 0.7999875  0.83855924 0.84922714\n",
            " 0.84788844 0.84688434 0.86803608 0.84250843 0.86360165 0.86368529\n",
            " 0.90198096 0.9474387  0.95987202 0.87902192 0.90503482 0.85441462\n",
            " 0.87403524 0.85843081 0.83178201 0.85253205 0.85884916 0.85073323\n",
            " 0.844458   0.862447   0.88478678 0.87821873 0.92503192 0.9378752\n",
            " 0.94285362 0.97477365 0.97636329 0.88460439 0.88060033 0.86584467\n",
            " 0.8461262  0.82455921 0.80273831 0.78150809 0.76127541 0.74226034\n",
            " 0.72480452 0.70903939 0.69501269 0.68271744 0.67210424 0.66309237\n",
            " 0.65557641 0.6494326  0.644526   0.64071578 0.63785911 0.63581538\n",
            " 0.63445115 0.63364208 0.63327414 0.63324344]\n",
            "25 day output [[0.63345796]]\n",
            "26 day input [0.88637653 0.89763007 0.88980697 0.88072882 0.91118463 0.8962495\n",
            " 0.8619449  0.83805724 0.8176418  0.81283079 0.76463703 0.75417831\n",
            " 0.7765181  0.77388248 0.74999482 0.71640139 0.5851654  0.6181313\n",
            " 0.5423683  0.57776065 0.50279251 0.49634993 0.46330038 0.42079615\n",
            " 0.50467508 0.39264125 0.44229929 0.55847473 0.54504569 0.54454369\n",
            " 0.51513375 0.5848307  0.55696863 0.55445854 0.6620997  0.65042781\n",
            " 0.67368794 0.64791772 0.61503546 0.63026342 0.67707661 0.69364326\n",
            " 0.6882465  0.79387957 0.7999875  0.83855924 0.84922714 0.84788844\n",
            " 0.84688434 0.86803608 0.84250843 0.86360165 0.86368529 0.90198096\n",
            " 0.9474387  0.95987202 0.87902192 0.90503482 0.85441462 0.87403524\n",
            " 0.85843081 0.83178201 0.85253205 0.85884916 0.85073323 0.844458\n",
            " 0.862447   0.88478678 0.87821873 0.92503192 0.9378752  0.94285362\n",
            " 0.97477365 0.97636329 0.88460439 0.88060033 0.86584467 0.8461262\n",
            " 0.82455921 0.80273831 0.78150809 0.76127541 0.74226034 0.72480452\n",
            " 0.70903939 0.69501269 0.68271744 0.67210424 0.66309237 0.65557641\n",
            " 0.6494326  0.644526   0.64071578 0.63785911 0.63581538 0.63445115\n",
            " 0.63364208 0.63327414 0.63324344 0.63345796]\n",
            "26 day output [[0.63383806]]\n",
            "27 day input [0.89763007 0.88980697 0.88072882 0.91118463 0.8962495  0.8619449\n",
            " 0.83805724 0.8176418  0.81283079 0.76463703 0.75417831 0.7765181\n",
            " 0.77388248 0.74999482 0.71640139 0.5851654  0.6181313  0.5423683\n",
            " 0.57776065 0.50279251 0.49634993 0.46330038 0.42079615 0.50467508\n",
            " 0.39264125 0.44229929 0.55847473 0.54504569 0.54454369 0.51513375\n",
            " 0.5848307  0.55696863 0.55445854 0.6620997  0.65042781 0.67368794\n",
            " 0.64791772 0.61503546 0.63026342 0.67707661 0.69364326 0.6882465\n",
            " 0.79387957 0.7999875  0.83855924 0.84922714 0.84788844 0.84688434\n",
            " 0.86803608 0.84250843 0.86360165 0.86368529 0.90198096 0.9474387\n",
            " 0.95987202 0.87902192 0.90503482 0.85441462 0.87403524 0.85843081\n",
            " 0.83178201 0.85253205 0.85884916 0.85073323 0.844458   0.862447\n",
            " 0.88478678 0.87821873 0.92503192 0.9378752  0.94285362 0.97477365\n",
            " 0.97636329 0.88460439 0.88060033 0.86584467 0.8461262  0.82455921\n",
            " 0.80273831 0.78150809 0.76127541 0.74226034 0.72480452 0.70903939\n",
            " 0.69501269 0.68271744 0.67210424 0.66309237 0.65557641 0.6494326\n",
            " 0.644526   0.64071578 0.63785911 0.63581538 0.63445115 0.63364208\n",
            " 0.63327414 0.63324344 0.63345796 0.63383806]\n",
            "27 day output [[0.6343168]]\n",
            "28 day input [0.88980697 0.88072882 0.91118463 0.8962495  0.8619449  0.83805724\n",
            " 0.8176418  0.81283079 0.76463703 0.75417831 0.7765181  0.77388248\n",
            " 0.74999482 0.71640139 0.5851654  0.6181313  0.5423683  0.57776065\n",
            " 0.50279251 0.49634993 0.46330038 0.42079615 0.50467508 0.39264125\n",
            " 0.44229929 0.55847473 0.54504569 0.54454369 0.51513375 0.5848307\n",
            " 0.55696863 0.55445854 0.6620997  0.65042781 0.67368794 0.64791772\n",
            " 0.61503546 0.63026342 0.67707661 0.69364326 0.6882465  0.79387957\n",
            " 0.7999875  0.83855924 0.84922714 0.84788844 0.84688434 0.86803608\n",
            " 0.84250843 0.86360165 0.86368529 0.90198096 0.9474387  0.95987202\n",
            " 0.87902192 0.90503482 0.85441462 0.87403524 0.85843081 0.83178201\n",
            " 0.85253205 0.85884916 0.85073323 0.844458   0.862447   0.88478678\n",
            " 0.87821873 0.92503192 0.9378752  0.94285362 0.97477365 0.97636329\n",
            " 0.88460439 0.88060033 0.86584467 0.8461262  0.82455921 0.80273831\n",
            " 0.78150809 0.76127541 0.74226034 0.72480452 0.70903939 0.69501269\n",
            " 0.68271744 0.67210424 0.66309237 0.65557641 0.6494326  0.644526\n",
            " 0.64071578 0.63785911 0.63581538 0.63445115 0.63364208 0.63327414\n",
            " 0.63324344 0.63345796 0.63383806 0.6343168 ]\n",
            "28 day output [[0.63483715]]\n",
            "29 day input [0.88072882 0.91118463 0.8962495  0.8619449  0.83805724 0.8176418\n",
            " 0.81283079 0.76463703 0.75417831 0.7765181  0.77388248 0.74999482\n",
            " 0.71640139 0.5851654  0.6181313  0.5423683  0.57776065 0.50279251\n",
            " 0.49634993 0.46330038 0.42079615 0.50467508 0.39264125 0.44229929\n",
            " 0.55847473 0.54504569 0.54454369 0.51513375 0.5848307  0.55696863\n",
            " 0.55445854 0.6620997  0.65042781 0.67368794 0.64791772 0.61503546\n",
            " 0.63026342 0.67707661 0.69364326 0.6882465  0.79387957 0.7999875\n",
            " 0.83855924 0.84922714 0.84788844 0.84688434 0.86803608 0.84250843\n",
            " 0.86360165 0.86368529 0.90198096 0.9474387  0.95987202 0.87902192\n",
            " 0.90503482 0.85441462 0.87403524 0.85843081 0.83178201 0.85253205\n",
            " 0.85884916 0.85073323 0.844458   0.862447   0.88478678 0.87821873\n",
            " 0.92503192 0.9378752  0.94285362 0.97477365 0.97636329 0.88460439\n",
            " 0.88060033 0.86584467 0.8461262  0.82455921 0.80273831 0.78150809\n",
            " 0.76127541 0.74226034 0.72480452 0.70903939 0.69501269 0.68271744\n",
            " 0.67210424 0.66309237 0.65557641 0.6494326  0.644526   0.64071578\n",
            " 0.63785911 0.63581538 0.63445115 0.63364208 0.63327414 0.63324344\n",
            " 0.63345796 0.63383806 0.6343168  0.63483715]\n",
            "29 day output [[0.6353542]]\n",
            "[[0.8846043944358826], [0.8806003332138062], [0.8658446669578552], [0.8461261987686157], [0.824559211730957], [0.8027383089065552], [0.7815080881118774], [0.7612754106521606], [0.7422603368759155], [0.7248045206069946], [0.7090393900871277], [0.6950126886367798], [0.6827174425125122], [0.6721042394638062], [0.6630923748016357], [0.6555764079093933], [0.6494325995445251], [0.6445260047912598], [0.6407157778739929], [0.6378591060638428], [0.6358153820037842], [0.634451150894165], [0.6336420774459839], [0.6332741379737854], [0.6332434415817261], [0.6334579586982727], [0.6338380575180054], [0.6343168020248413], [0.6348371505737305], [0.635354220867157]]\n"
          ],
          "name": "stdout"
        }
      ]
    },
    {
      "cell_type": "code",
      "metadata": {
        "id": "0GYT69LiORO6"
      },
      "source": [
        "day_new = np.arange(1,101)\n",
        "day_pred = np.arange(101,131)"
      ],
      "execution_count": 27,
      "outputs": []
    },
    {
      "cell_type": "code",
      "metadata": {
        "id": "3hz27VFGORO7"
      },
      "source": [
        "df3 = df_close.tolist()\n",
        "df3.extend(lst_output)"
      ],
      "execution_count": 28,
      "outputs": []
    },
    {
      "cell_type": "code",
      "metadata": {
        "colab": {
          "base_uri": "https://localhost:8080/"
        },
        "id": "BR53rzbkORO8",
        "outputId": "ba0dc452-a327-40a7-83d5-749ee444bc63"
      },
      "source": [
        "len(df_close)"
      ],
      "execution_count": 29,
      "outputs": [
        {
          "output_type": "execute_result",
          "data": {
            "text/plain": [
              "1228"
            ]
          },
          "metadata": {
            "tags": []
          },
          "execution_count": 29
        }
      ]
    },
    {
      "cell_type": "code",
      "metadata": {
        "colab": {
          "base_uri": "https://localhost:8080/",
          "height": 283
        },
        "id": "2jGaOxgVORO8",
        "outputId": "8b6e07c8-1777-4695-9861-97376fdce4d1"
      },
      "source": [
        "plt.plot(day_new, scaler.inverse_transform(df_close[1128:]))\n",
        "plt.plot(day_pred, scaler.inverse_transform(lst_output))"
      ],
      "execution_count": 30,
      "outputs": [
        {
          "output_type": "execute_result",
          "data": {
            "text/plain": [
              "[<matplotlib.lines.Line2D at 0x7f00f5d2e410>]"
            ]
          },
          "metadata": {
            "tags": []
          },
          "execution_count": 30
        },
        {
          "output_type": "display_data",
          "data": {
            "image/png": "[encoded data removed]",
            "text/plain": [
              "<Figure size 432x288 with 1 Axes>"
            ]
          },
          "metadata": {
            "tags": [],
            "needs_background": "light"
          }
        }
      ]
    },
    {
      "cell_type": "code",
      "metadata": {
        "id": "YqXGm2XFORO9"
      },
      "source": [
        ""
      ],
      "execution_count": null,
      "outputs": []
    }
  ]
}